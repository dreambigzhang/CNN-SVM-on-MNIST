{
 "cells": [
  {
   "cell_type": "markdown",
   "metadata": {},
   "source": [
    "https://github.com/AmritK10/MNIST-CNN/tree/master\n",
    "Need to find already low res MNIST digits https://github.com/zatserkl/mnist_resolution/tree/master\n",
    " or we need to do pooling (max pooling)\n"
   ]
  },
  {
   "cell_type": "code",
   "execution_count": 2,
   "metadata": {},
   "outputs": [],
   "source": [
    "import numpy as np\n",
    "import tensorflow as tf\n",
    "from tensorflow.keras.datasets import mnist\n",
    "from sklearn.utils import resample\n",
    "import matplotlib.pyplot as plt\n",
    "from scipy import stats"
   ]
  },
  {
   "cell_type": "code",
   "execution_count": 3,
   "metadata": {},
   "outputs": [],
   "source": [
    "# Load the MNIST dataset\n",
    "(train_images, train_labels), (test_images, test_labels) = mnist.load_data()"
   ]
  },
  {
   "cell_type": "code",
   "execution_count": 4,
   "metadata": {},
   "outputs": [
    {
     "name": "stdout",
     "output_type": "stream",
     "text": [
      "Original Train Images Shape: (60000, 28, 28)\n",
      "Original Test Images Shape: (10000, 28, 28)\n"
     ]
    }
   ],
   "source": [
    "# Print dimensions of the original images\n",
    "print(\"Original Train Images Shape:\", train_images.shape)\n",
    "print(\"Original Test Images Shape:\", test_images.shape)"
   ]
  },
  {
   "cell_type": "code",
   "execution_count": 5,
   "metadata": {},
   "outputs": [
    {
     "data": {
      "image/png": "[encoded data removed]",
      "text/plain": [
       "<Figure size 1000x500 with 10 Axes>"
      ]
     },
     "metadata": {},
     "output_type": "display_data"
    }
   ],
   "source": [
    "# Display some original images\n",
    "plt.figure(figsize=(10, 5))\n",
    "for i in range(10):\n",
    "    plt.subplot(2, 5, i+1)\n",
    "    plt.imshow(train_images[i], cmap='gray')\n",
    "    plt.title(f\"Label: {train_labels[i]}\")\n",
    "    plt.axis('off')\n",
    "plt.show()"
   ]
  },
  {
   "cell_type": "code",
   "execution_count": 6,
   "metadata": {},
   "outputs": [
    {
     "name": "stdout",
     "output_type": "stream",
     "text": [
      "Pooled Train Images Shape: (60000, 7, 7, 1)\n"
     ]
    }
   ],
   "source": [
    "# Reshape images to 4D tensors (height, width, channels)\n",
    "train_images = train_images.reshape(train_images.shape[0], 28, 28, 1)\n",
    "test_images = test_images.reshape(test_images.shape[0], 28, 28, 1)\n",
    "\n",
    "# Define the pooling layer\n",
    "pooling_layer = tf.keras.layers.MaxPooling2D(pool_size=(4, 4), strides=(4, 4), padding='valid')\n",
    "\n",
    "# Apply max pooling to the images\n",
    "train_images_pooled = pooling_layer(train_images)\n",
    "test_images_pooled = pooling_layer(test_images)\n",
    "\n",
    "# Normalize pixel values to be between 0 and 1\n",
    "train_images_pooled = train_images_pooled / 255.0\n",
    "test_images_pooled = test_images_pooled / 255.0\n",
    "\n",
    "print(\"Pooled Train Images Shape:\", train_images_pooled.shape)"
   ]
  },
  {
   "cell_type": "code",
   "execution_count": 7,
   "metadata": {},
   "outputs": [
    {
     "data": {
      "text/plain": [
       "'\\ntrain_images = train_images.reshape(train_images.shape[0], 28, 28, 1)\\ntest_images = test_images.reshape(test_images.shape[0], 28, 28, 1)\\n\\n# Define the pooling layer\\npooling_layer = tf.keras.layers.AveragePooling2D(pool_size=(4, 4), strides=(4, 4), padding=\\'valid\\')\\n\\n# Apply pooling to the images\\ntrain_images_pooled = pooling_layer(train_images)\\ntest_images_pooled = pooling_layer(test_images)\\n\\n# Normalize pixel values to be between 0 and 1\\ntrain_images_pooled = train_images_pooled / 255.0\\ntest_images_pooled = test_images_pooled / 255.0\\nprint(\"Pooled Train Images Shape:\", train_images_pooled.shape)\\n'"
      ]
     },
     "execution_count": 7,
     "metadata": {},
     "output_type": "execute_result"
    }
   ],
   "source": [
    "'''\n",
    "train_images = train_images.reshape(train_images.shape[0], 28, 28, 1)\n",
    "test_images = test_images.reshape(test_images.shape[0], 28, 28, 1)\n",
    "\n",
    "# Define the pooling layer\n",
    "pooling_layer = tf.keras.layers.AveragePooling2D(pool_size=(4, 4), strides=(4, 4), padding='valid')\n",
    "\n",
    "# Apply pooling to the images\n",
    "train_images_pooled = pooling_layer(train_images)\n",
    "test_images_pooled = pooling_layer(test_images)\n",
    "\n",
    "# Normalize pixel values to be between 0 and 1\n",
    "train_images_pooled = train_images_pooled / 255.0\n",
    "test_images_pooled = test_images_pooled / 255.0\n",
    "print(\"Pooled Train Images Shape:\", train_images_pooled.shape)\n",
    "'''"
   ]
  },
  {
   "cell_type": "code",
   "execution_count": 8,
   "metadata": {},
   "outputs": [
    {
     "data": {
      "image/png": "[encoded data removed]",
      "text/plain": [
       "<Figure size 1000x500 with 10 Axes>"
      ]
     },
     "metadata": {},
     "output_type": "display_data"
    }
   ],
   "source": [
    "# Display some original images\n",
    "plt.figure(figsize=(10, 5))\n",
    "for i in range(10):\n",
    "    plt.subplot(2, 5, i+1)\n",
    "    plt.imshow(train_images_pooled[i], cmap='gray')\n",
    "    plt.title(f\"Label: {train_labels[i]}\")\n",
    "    plt.axis('off')\n",
    "plt.show()"
   ]
  },
  {
   "cell_type": "code",
   "execution_count": 9,
   "metadata": {},
   "outputs": [],
   "source": [
    "# Reshape images to 3D tensors (height, width, channels)\n",
    "train_images = train_images_pooled\n",
    "test_images = test_images_pooled"
   ]
  },
  {
   "cell_type": "code",
   "execution_count": 10,
   "metadata": {},
   "outputs": [
    {
     "name": "stderr",
     "output_type": "stream",
     "text": [
      "/Users/alanzhang/Library/Python/3.10/lib/python/site-packages/keras/src/layers/convolutional/base_conv.py:99: UserWarning: Do not pass an `input_shape`/`input_dim` argument to a layer. When using Sequential models, prefer using an `Input(shape)` object as the first layer in the model instead.\n",
      "  super().__init__(\n"
     ]
    }
   ],
   "source": [
    "# Define the CNN model with padding\n",
    "model = tf.keras.Sequential([\n",
    "    tf.keras.layers.Conv2D(32, (3, 3), padding='same', activation='relu', input_shape=(7, 7, 1)),\n",
    "    tf.keras.layers.MaxPooling2D(2, 2),\n",
    "    tf.keras.layers.Conv2D(64, (3, 3), padding='same', activation='relu'),\n",
    "    tf.keras.layers.MaxPooling2D(2, 2),\n",
    "    tf.keras.layers.Flatten(),\n",
    "    tf.keras.layers.Dense(128, activation='relu'),\n",
    "    tf.keras.layers.Dense(10, activation='softmax')\n",
    "])\n"
   ]
  },
  {
   "cell_type": "code",
   "execution_count": 11,
   "metadata": {},
   "outputs": [],
   "source": [
    "# Compile the model\n",
    "model.compile(optimizer='adam',\n",
    "              loss='sparse_categorical_crossentropy',\n",
    "              metrics=['accuracy'])"
   ]
  },
  {
   "cell_type": "code",
   "execution_count": 12,
   "metadata": {},
   "outputs": [
    {
     "name": "stdout",
     "output_type": "stream",
     "text": [
      "Epoch 1/10\n",
      "1875/1875 - 5s - 3ms/step - accuracy: 0.8105 - loss: 0.5781 - val_accuracy: 0.8638 - val_loss: 0.4137\n",
      "Epoch 2/10\n",
      "1875/1875 - 5s - 2ms/step - accuracy: 0.8820 - loss: 0.3558 - val_accuracy: 0.8874 - val_loss: 0.3393\n",
      "Epoch 3/10\n",
      "1875/1875 - 4s - 2ms/step - accuracy: 0.8926 - loss: 0.3217 - val_accuracy: 0.8919 - val_loss: 0.3257\n",
      "Epoch 4/10\n",
      "1875/1875 - 4s - 2ms/step - accuracy: 0.9000 - loss: 0.3022 - val_accuracy: 0.9000 - val_loss: 0.3064\n",
      "Epoch 5/10\n",
      "1875/1875 - 4s - 2ms/step - accuracy: 0.9042 - loss: 0.2863 - val_accuracy: 0.8986 - val_loss: 0.3129\n",
      "Epoch 6/10\n",
      "1875/1875 - 4s - 2ms/step - accuracy: 0.9082 - loss: 0.2743 - val_accuracy: 0.8936 - val_loss: 0.3179\n",
      "Epoch 7/10\n",
      "1875/1875 - 4s - 2ms/step - accuracy: 0.9096 - loss: 0.2665 - val_accuracy: 0.9041 - val_loss: 0.3000\n",
      "Epoch 8/10\n",
      "1875/1875 - 4s - 2ms/step - accuracy: 0.9127 - loss: 0.2578 - val_accuracy: 0.9132 - val_loss: 0.2735\n",
      "Epoch 9/10\n",
      "1875/1875 - 4s - 2ms/step - accuracy: 0.9158 - loss: 0.2497 - val_accuracy: 0.9070 - val_loss: 0.2888\n",
      "Epoch 10/10\n",
      "1875/1875 - 4s - 2ms/step - accuracy: 0.9187 - loss: 0.2431 - val_accuracy: 0.9074 - val_loss: 0.2837\n"
     ]
    }
   ],
   "source": [
    "# Train the model\n",
    "history = model.fit(train_images, train_labels, epochs=10, validation_data=(test_images, test_labels), verbose=2)"
   ]
  },
  {
   "cell_type": "code",
   "execution_count": 13,
   "metadata": {},
   "outputs": [
    {
     "name": "stdout",
     "output_type": "stream",
     "text": [
      "Test accuracy: 90.74%\n"
     ]
    }
   ],
   "source": [
    "# Evaluate model on test data\n",
    "test_loss, test_acc = model.evaluate(test_images, test_labels, verbose=0)\n",
    "print(f'Test accuracy: {test_acc*100:.2f}%')"
   ]
  },
  {
   "cell_type": "code",
   "execution_count": 14,
   "metadata": {},
   "outputs": [
    {
     "name": "stdout",
     "output_type": "stream",
     "text": [
      "Iteration: 1\n",
      "Accuracy: 19.49%\n",
      "Iteration: 2\n",
      "Accuracy: 25.04%\n",
      "Iteration: 3\n",
      "Accuracy: 25.03%\n",
      "Iteration: 4\n",
      "Accuracy: 15.54%\n",
      "Iteration: 5\n",
      "Accuracy: 13.71%\n",
      "Iteration: 6\n",
      "Accuracy: 14.66%\n",
      "Iteration: 7\n",
      "Accuracy: 9.15%\n",
      "Iteration: 8\n",
      "Accuracy: 10.01%\n",
      "Iteration: 9\n",
      "Accuracy: 16.89%\n",
      "Iteration: 10\n",
      "Accuracy: 16.25%\n",
      "p-value: 0.09090909090909091\n",
      "p-value: 0.09090909090909091\n",
      "95% Confidence Interval: (0.87561341956591, 0.9391866044666828)\n"
     ]
    }
   ],
   "source": [
    "# Mini-batch Bootstrap resampling for confidence interval estimation\n",
    "n_iterations = 10\n",
    "#batch_size = 100  # Adjust batch size as needed\n",
    "permutation_test_accuracies = []\n",
    "\n",
    "for i in range(n_iterations):\n",
    "    print(f'Iteration: {i+1}')\n",
    "\n",
    "    indices = np.random.choice(train_images.shape[0], size=100, replace=True)\n",
    "    indices_tensor = tf.convert_to_tensor(indices)  # Convert numpy array to tensor\n",
    "    resampled_images = tf.gather(train_images, indices_tensor)\n",
    "    resampled_labels = tf.gather(train_labels, indices_tensor)\n",
    "\n",
    "    permuted_train_labels = np.random.permutation(resampled_labels)\n",
    "    \n",
    "    model.fit(resampled_images, permuted_train_labels, epochs=10, verbose=0)\n",
    "    \n",
    "    # Evaluate model on test data\n",
    "    _, acc = model.evaluate(test_images, test_labels, verbose=0)\n",
    "    permutation_test_accuracies.append(acc)  # Append accuracy value to the list\n",
    "    print(f'Accuracy: {acc*100:.2f}%')\n",
    "\n",
    "original_accuracy = test_acc\n",
    "p_value = (np.sum(np.array(permutation_test_accuracies) >= original_accuracy) + 1) / (n_iterations + 1)\n",
    "\n",
    "print(\"p-value:\", p_value)\n",
    "\n",
    "alpha = 0.05\n",
    "z_score = stats.norm.ppf(1 - alpha / 2)\n",
    "\n",
    "# Compute the standard error of the permutation test accuracies\n",
    "std_error = np.std(permutation_test_accuracies) / np.sqrt(n_iterations)\n",
    "\n",
    "# Compute the margin of error\n",
    "margin_of_error = z_score * std_error\n",
    "\n",
    "# Calculate the lower and upper bounds of the confidence interval\n",
    "lower_bound = original_accuracy - margin_of_error\n",
    "upper_bound = original_accuracy + margin_of_error\n",
    "\n",
    "print(\"p-value:\", p_value)\n",
    "print(\"95% Confidence Interval:\", (lower_bound, upper_bound))\n"
   ]
  },
  {
   "cell_type": "code",
   "execution_count": 17,
   "metadata": {},
   "outputs": [
    {
     "data": {
      "image/png": "[encoded data removed]",
      "text/plain": [
       "<Figure size 640x480 with 1 Axes>"
      ]
     },
     "metadata": {},
     "output_type": "display_data"
    }
   ],
   "source": [
    "\n",
    "\n",
    "# Assume upper_bound and lower_bound are scalar values\n",
    "\n",
    "# Plot training and test accuracy\n",
    "plt.plot(history.history['accuracy'], label='Train Accuracy', marker='o')\n",
    "plt.plot(history.history['val_accuracy'], label='Test Accuracy', marker='o')\n",
    "plt.xlabel('Epoch')\n",
    "plt.ylabel('Accuracy')\n",
    "plt.ylim([0.3, 1])\n",
    "plt.legend(loc='lower right')\n",
    "\n",
    "# Plot confidence intervals\n",
    "for epoch, (train_acc, test_acc) in enumerate(zip(history.history['accuracy'], history.history['val_accuracy'])):\n",
    "    plt.errorbar(epoch, train_acc, yerr=margin_of_error, fmt='none', ecolor='gray', capsize=5)\n",
    "    plt.errorbar(epoch, test_acc, yerr=margin_of_error, fmt='none', ecolor='gray', capsize=5)\n",
    "\n",
    "plt.title('Training and Test Accuracy with Confidence Intervals')\n",
    "plt.show()\n"
   ]
  },
  {
   "cell_type": "code",
   "execution_count": null,
   "metadata": {},
   "outputs": [],
   "source": []
  }
 ],
 "metadata": {
  "kernelspec": {
   "display_name": "Python 3",
   "language": "python",
   "name": "python3"
  },
  "language_info": {
   "codemirror_mode": {
    "name": "ipython",
    "version": 3
   },
   "file_extension": ".py",
   "mimetype": "text/x-python",
   "name": "python",
   "nbconvert_exporter": "python",
   "pygments_lexer": "ipython3",
   "version": "3.10.4"
  }
 },
 "nbformat": 4,
 "nbformat_minor": 2
}
