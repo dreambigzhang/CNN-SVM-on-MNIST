{
 "cells": [
  {
   "cell_type": "markdown",
   "metadata": {},
   "source": [
    "https://github.com/AmritK10/MNIST-CNN/tree/master\n",
    "Need to find already low res MNIST digits https://github.com/zatserkl/mnist_resolution/tree/master\n",
    " or we need to do pooling (max pooling)\n"
   ]
  },
  {
   "cell_type": "code",
   "execution_count": 81,
   "metadata": {},
   "outputs": [],
   "source": [
    "import numpy as np\n",
    "import tensorflow as tf\n",
    "from tensorflow.keras.datasets import mnist\n",
    "from sklearn.utils import resample\n",
    "import matplotlib.pyplot as plt"
   ]
  },
  {
   "cell_type": "code",
   "execution_count": 82,
   "metadata": {},
   "outputs": [],
   "source": [
    "# Load the MNIST dataset\n",
    "(train_images, train_labels), (test_images, test_labels) = mnist.load_data()"
   ]
  },
  {
   "cell_type": "code",
   "execution_count": 83,
   "metadata": {},
   "outputs": [
    {
     "name": "stdout",
     "output_type": "stream",
     "text": [
      "Original Train Images Shape: (60000, 28, 28)\n",
      "Original Test Images Shape: (10000, 28, 28)\n"
     ]
    }
   ],
   "source": [
    "# Print dimensions of the original images\n",
    "print(\"Original Train Images Shape:\", train_images.shape)\n",
    "print(\"Original Test Images Shape:\", test_images.shape)"
   ]
  },
  {
   "cell_type": "code",
   "execution_count": 84,
   "metadata": {},
   "outputs": [
    {
     "data": {
      "image/png": "[encoded data removed]",
      "text/plain": [
       "<Figure size 1000x500 with 10 Axes>"
      ]
     },
     "metadata": {},
     "output_type": "display_data"
    }
   ],
   "source": [
    "# Display some original images\n",
    "plt.figure(figsize=(10, 5))\n",
    "for i in range(10):\n",
    "    plt.subplot(2, 5, i+1)\n",
    "    plt.imshow(train_images[i], cmap='gray')\n",
    "    plt.title(f\"Label: {train_labels[i]}\")\n",
    "    plt.axis('off')\n",
    "plt.show()"
   ]
  },
  {
   "cell_type": "code",
   "execution_count": 74,
   "metadata": {},
   "outputs": [
    {
     "name": "stdout",
     "output_type": "stream",
     "text": [
      "Pooled Train Images Shape: (60000, 7, 7, 1)\n"
     ]
    }
   ],
   "source": [
    "# Reshape images to 4D tensors (height, width, channels)\n",
    "train_images = train_images.reshape(train_images.shape[0], 28, 28, 1)\n",
    "test_images = test_images.reshape(test_images.shape[0], 28, 28, 1)\n",
    "\n",
    "# Define the pooling layer\n",
    "pooling_layer = tf.keras.layers.MaxPooling2D(pool_size=(4, 4), strides=(4, 4), padding='valid')\n",
    "\n",
    "# Apply max pooling to the images\n",
    "train_images_pooled = pooling_layer(train_images)\n",
    "test_images_pooled = pooling_layer(test_images)\n",
    "\n",
    "# Normalize pixel values to be between 0 and 1\n",
    "train_images_pooled = train_images_pooled / 255.0\n",
    "test_images_pooled = test_images_pooled / 255.0\n",
    "\n",
    "print(\"Pooled Train Images Shape:\", train_images_pooled.shape)"
   ]
  },
  {
   "cell_type": "code",
   "execution_count": 85,
   "metadata": {},
   "outputs": [
    {
     "name": "stdout",
     "output_type": "stream",
     "text": [
      "Pooled Train Images Shape: (60000, 7, 7, 1)\n"
     ]
    }
   ],
   "source": [
    "'''\n",
    "train_images = train_images.reshape(train_images.shape[0], 28, 28, 1)\n",
    "test_images = test_images.reshape(test_images.shape[0], 28, 28, 1)\n",
    "\n",
    "# Define the pooling layer\n",
    "pooling_layer = tf.keras.layers.AveragePooling2D(pool_size=(4, 4), strides=(4, 4), padding='valid')\n",
    "\n",
    "# Apply pooling to the images\n",
    "train_images_pooled = pooling_layer(train_images)\n",
    "test_images_pooled = pooling_layer(test_images)\n",
    "\n",
    "# Normalize pixel values to be between 0 and 1\n",
    "train_images_pooled = train_images_pooled / 255.0\n",
    "test_images_pooled = test_images_pooled / 255.0\n",
    "print(\"Pooled Train Images Shape:\", train_images_pooled.shape)\n",
    "'''"
   ]
  },
  {
   "cell_type": "code",
   "execution_count": 86,
   "metadata": {},
   "outputs": [
    {
     "data": {
      "image/png": "[encoded data removed]",
      "text/plain": [
       "<Figure size 1000x500 with 10 Axes>"
      ]
     },
     "metadata": {},
     "output_type": "display_data"
    }
   ],
   "source": [
    "# Display some original images\n",
    "plt.figure(figsize=(10, 5))\n",
    "for i in range(10):\n",
    "    plt.subplot(2, 5, i+1)\n",
    "    plt.imshow(train_images_pooled[i], cmap='gray')\n",
    "    plt.title(f\"Label: {train_labels[i]}\")\n",
    "    plt.axis('off')\n",
    "plt.show()"
   ]
  },
  {
   "cell_type": "code",
   "execution_count": 87,
   "metadata": {},
   "outputs": [],
   "source": [
    "# Reshape images to 3D tensors (height, width, channels)\n",
    "train_images = train_images_pooled\n",
    "test_images = test_images_pooled"
   ]
  },
  {
   "cell_type": "code",
   "execution_count": 88,
   "metadata": {},
   "outputs": [],
   "source": [
    "# Define the CNN model with padding\n",
    "model = tf.keras.Sequential([\n",
    "    tf.keras.layers.Conv2D(32, (3, 3), padding='same', activation='relu', input_shape=(7, 7, 1)),\n",
    "    tf.keras.layers.MaxPooling2D(2, 2),\n",
    "    tf.keras.layers.Conv2D(64, (3, 3), padding='same', activation='relu'),\n",
    "    tf.keras.layers.MaxPooling2D(2, 2),\n",
    "    tf.keras.layers.Flatten(),\n",
    "    tf.keras.layers.Dense(128, activation='relu'),\n",
    "    tf.keras.layers.Dense(10, activation='softmax')\n",
    "])\n"
   ]
  },
  {
   "cell_type": "code",
   "execution_count": 89,
   "metadata": {},
   "outputs": [],
   "source": [
    "# Compile the model\n",
    "model.compile(optimizer='adam',\n",
    "              loss='sparse_categorical_crossentropy',\n",
    "              metrics=['accuracy'])"
   ]
  },
  {
   "cell_type": "code",
   "execution_count": 90,
   "metadata": {},
   "outputs": [
    {
     "name": "stdout",
     "output_type": "stream",
     "text": [
      "Epoch 1/10\n",
      "1875/1875 - 6s - 3ms/step - accuracy: 0.8693 - loss: 0.4302 - val_accuracy: 0.9353 - val_loss: 0.2124\n",
      "Epoch 2/10\n",
      "1875/1875 - 6s - 3ms/step - accuracy: 0.9385 - loss: 0.1949 - val_accuracy: 0.9558 - val_loss: 0.1448\n",
      "Epoch 3/10\n",
      "1875/1875 - 5s - 3ms/step - accuracy: 0.9491 - loss: 0.1606 - val_accuracy: 0.9604 - val_loss: 0.1299\n",
      "Epoch 4/10\n",
      "1875/1875 - 5s - 3ms/step - accuracy: 0.9553 - loss: 0.1400 - val_accuracy: 0.9614 - val_loss: 0.1244\n",
      "Epoch 5/10\n",
      "1875/1875 - 5s - 3ms/step - accuracy: 0.9596 - loss: 0.1260 - val_accuracy: 0.9653 - val_loss: 0.1148\n",
      "Epoch 6/10\n",
      "1875/1875 - 5s - 3ms/step - accuracy: 0.9631 - loss: 0.1161 - val_accuracy: 0.9632 - val_loss: 0.1201\n",
      "Epoch 7/10\n",
      "1875/1875 - 4s - 2ms/step - accuracy: 0.9646 - loss: 0.1074 - val_accuracy: 0.9603 - val_loss: 0.1237\n",
      "Epoch 8/10\n",
      "1875/1875 - 5s - 2ms/step - accuracy: 0.9674 - loss: 0.0986 - val_accuracy: 0.9657 - val_loss: 0.1087\n",
      "Epoch 9/10\n",
      "1875/1875 - 5s - 2ms/step - accuracy: 0.9687 - loss: 0.0960 - val_accuracy: 0.9633 - val_loss: 0.1162\n",
      "Epoch 10/10\n",
      "1875/1875 - 5s - 2ms/step - accuracy: 0.9706 - loss: 0.0884 - val_accuracy: 0.9630 - val_loss: 0.1167\n"
     ]
    }
   ],
   "source": [
    "# Train the model\n",
    "history = model.fit(train_images, train_labels, epochs=10, validation_data=(test_images, test_labels), verbose=2)"
   ]
  },
  {
   "cell_type": "code",
   "execution_count": 92,
   "metadata": {},
   "outputs": [
    {
     "name": "stdout",
     "output_type": "stream",
     "text": [
      "Test accuracy: 96.30%\n"
     ]
    }
   ],
   "source": [
    "# Evaluate model on test data\n",
    "test_loss, test_acc = model.evaluate(test_images, test_labels, verbose=0)\n",
    "print(f'Test accuracy: {test_acc*100:.2f}%')"
   ]
  },
  {
   "cell_type": "code",
   "execution_count": 97,
   "metadata": {},
   "outputs": [
    {
     "name": "stdout",
     "output_type": "stream",
     "text": [
      "95% Confidence interval for accuracy: [0.9473999738693237, 0.9552574947476387]\n"
     ]
    }
   ],
   "source": [
    "# Mini-batch Bootstrap resampling for confidence interval estimation\n",
    "n_iterations = 100\n",
    "batch_size = 100  # Adjust batch size as needed\n",
    "accuracy_results = []\n",
    "\n",
    "for _ in range(n_iterations):\n",
    "    # Randomly select indices for the mini-batch\n",
    "    indices_tensor = tf.convert_to_tensor(indices)  # Convert numpy array to tensor\n",
    "    resampled_images = tf.gather(train_images, indices_tensor)\n",
    "    resampled_labels = tf.gather(train_labels, indices_tensor)\n",
    "    \n",
    "    # Train model on resampled mini-batch\n",
    "    model.fit(resampled_images, resampled_labels, epochs=10, verbose=0)\n",
    "    \n",
    "    # Evaluate model on test data\n",
    "    _, acc = model.evaluate(test_images, test_labels, verbose=0)\n",
    "    accuracy_results.append(acc)  # Append accuracy value to the list\n",
    "\n",
    "# Compute confidence intervals\n",
    "alpha = 0.95\n",
    "p = ((1.0-alpha)/2.0) * 100\n",
    "lower_confidence = max(0.0, np.percentile(accuracy_results, p))\n",
    "p = (alpha+((1.0-alpha)/2.0)) * 100\n",
    "upper_confidence = min(1.0, np.percentile(accuracy_results, p))\n",
    "\n",
    "print(f'95% Confidence interval for accuracy: [{lower_confidence}, {upper_confidence}]')\n"
   ]
  },
  {
   "cell_type": "code",
   "execution_count": null,
   "metadata": {},
   "outputs": [],
   "source": []
  }
 ],
 "metadata": {
  "kernelspec": {
   "display_name": "Python 3",
   "language": "python",
   "name": "python3"
  },
  "language_info": {
   "codemirror_mode": {
    "name": "ipython",
    "version": 3
   },
   "file_extension": ".py",
   "mimetype": "text/x-python",
   "name": "python",
   "nbconvert_exporter": "python",
   "pygments_lexer": "ipython3",
   "version": "3.10.4"
  }
 },
 "nbformat": 4,
 "nbformat_minor": 2
}
