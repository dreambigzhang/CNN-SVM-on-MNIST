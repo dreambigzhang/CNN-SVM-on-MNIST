{
 "cells": [
  {
   "cell_type": "code",
   "execution_count": null,
   "metadata": {},
   "outputs": [],
   "source": [
    "#https://github.com/guilhermedom/cnn-fashion-mnist/blob/main/notebooks/1.0-gdfs-cnn-fashion-mnist.ipynb\n",
    "#https://github.com/zubairsamo/Fashion-Mnist-Using-CNN"
   ]
  },
  {
   "cell_type": "code",
   "execution_count": 22,
   "metadata": {},
   "outputs": [
    {
     "name": "stdout",
     "output_type": "stream",
     "text": [
      "Defaulting to user installation because normal site-packages is not writeable\n",
      "Requirement already satisfied: tensorflow in /Users/alanzhang/Library/Python/3.10/lib/python/site-packages (2.16.1)\n",
      "Requirement already satisfied: absl-py>=1.0.0 in /Users/alanzhang/Library/Python/3.10/lib/python/site-packages (from tensorflow) (2.1.0)\n",
      "Requirement already satisfied: astunparse>=1.6.0 in /Users/alanzhang/Library/Python/3.10/lib/python/site-packages (from tensorflow) (1.6.3)\n",
      "Requirement already satisfied: flatbuffers>=23.5.26 in /Users/alanzhang/Library/Python/3.10/lib/python/site-packages (from tensorflow) (24.3.7)\n",
      "Requirement already satisfied: gast!=0.5.0,!=0.5.1,!=0.5.2,>=0.2.1 in /Users/alanzhang/Library/Python/3.10/lib/python/site-packages (from tensorflow) (0.5.4)\n",
      "Requirement already satisfied: google-pasta>=0.1.1 in /Users/alanzhang/Library/Python/3.10/lib/python/site-packages (from tensorflow) (0.2.0)\n",
      "Requirement already satisfied: h5py>=3.10.0 in /Users/alanzhang/Library/Python/3.10/lib/python/site-packages (from tensorflow) (3.10.0)\n",
      "Requirement already satisfied: libclang>=13.0.0 in /Users/alanzhang/Library/Python/3.10/lib/python/site-packages (from tensorflow) (16.0.6)\n",
      "Requirement already satisfied: ml-dtypes~=0.3.1 in /Users/alanzhang/Library/Python/3.10/lib/python/site-packages (from tensorflow) (0.3.2)\n",
      "Requirement already satisfied: opt-einsum>=2.3.2 in /Users/alanzhang/Library/Python/3.10/lib/python/site-packages (from tensorflow) (3.3.0)\n",
      "Requirement already satisfied: packaging in /Users/alanzhang/Library/Python/3.10/lib/python/site-packages (from tensorflow) (23.2)\n",
      "Requirement already satisfied: protobuf!=4.21.0,!=4.21.1,!=4.21.2,!=4.21.3,!=4.21.4,!=4.21.5,<5.0.0dev,>=3.20.3 in /Users/alanzhang/Library/Python/3.10/lib/python/site-packages (from tensorflow) (4.25.3)\n",
      "Requirement already satisfied: requests<3,>=2.21.0 in /Users/alanzhang/Library/Python/3.10/lib/python/site-packages (from tensorflow) (2.31.0)\n",
      "Requirement already satisfied: setuptools in /opt/local/Library/Frameworks/Python.framework/Versions/3.10/lib/python3.10/site-packages (from tensorflow) (62.1.0)\n",
      "Requirement already satisfied: six>=1.12.0 in /Users/alanzhang/Library/Python/3.10/lib/python/site-packages (from tensorflow) (1.16.0)\n",
      "Requirement already satisfied: termcolor>=1.1.0 in /Users/alanzhang/Library/Python/3.10/lib/python/site-packages (from tensorflow) (2.4.0)\n",
      "Requirement already satisfied: typing-extensions>=3.6.6 in /Users/alanzhang/Library/Python/3.10/lib/python/site-packages (from tensorflow) (4.10.0)\n",
      "Requirement already satisfied: wrapt>=1.11.0 in /Users/alanzhang/Library/Python/3.10/lib/python/site-packages (from tensorflow) (1.16.0)\n",
      "Requirement already satisfied: grpcio<2.0,>=1.24.3 in /Users/alanzhang/Library/Python/3.10/lib/python/site-packages (from tensorflow) (1.62.1)\n",
      "Requirement already satisfied: tensorboard<2.17,>=2.16 in /Users/alanzhang/Library/Python/3.10/lib/python/site-packages (from tensorflow) (2.16.2)\n",
      "Requirement already satisfied: keras>=3.0.0 in /Users/alanzhang/Library/Python/3.10/lib/python/site-packages (from tensorflow) (3.0.5)\n",
      "Requirement already satisfied: tensorflow-io-gcs-filesystem>=0.23.1 in /Users/alanzhang/Library/Python/3.10/lib/python/site-packages (from tensorflow) (0.36.0)\n",
      "Requirement already satisfied: numpy<2.0.0,>=1.23.5 in /Users/alanzhang/Library/Python/3.10/lib/python/site-packages (from tensorflow) (1.26.3)\n",
      "Requirement already satisfied: wheel<1.0,>=0.23.0 in /Users/alanzhang/Library/Python/3.10/lib/python/site-packages (from astunparse>=1.6.0->tensorflow) (0.42.0)\n",
      "Requirement already satisfied: rich in /Users/alanzhang/Library/Python/3.10/lib/python/site-packages (from keras>=3.0.0->tensorflow) (13.7.1)\n",
      "Requirement already satisfied: namex in /Users/alanzhang/Library/Python/3.10/lib/python/site-packages (from keras>=3.0.0->tensorflow) (0.0.7)\n",
      "Requirement already satisfied: dm-tree in /Users/alanzhang/Library/Python/3.10/lib/python/site-packages (from keras>=3.0.0->tensorflow) (0.1.8)\n",
      "Requirement already satisfied: charset-normalizer<4,>=2 in /Users/alanzhang/Library/Python/3.10/lib/python/site-packages (from requests<3,>=2.21.0->tensorflow) (3.3.2)\n",
      "Requirement already satisfied: idna<4,>=2.5 in /Users/alanzhang/Library/Python/3.10/lib/python/site-packages (from requests<3,>=2.21.0->tensorflow) (3.6)\n",
      "Requirement already satisfied: urllib3<3,>=1.21.1 in /Users/alanzhang/Library/Python/3.10/lib/python/site-packages (from requests<3,>=2.21.0->tensorflow) (2.2.1)\n",
      "Requirement already satisfied: certifi>=2017.4.17 in /Users/alanzhang/Library/Python/3.10/lib/python/site-packages (from requests<3,>=2.21.0->tensorflow) (2024.2.2)\n",
      "Requirement already satisfied: markdown>=2.6.8 in /opt/local/Library/Frameworks/Python.framework/Versions/3.10/lib/python3.10/site-packages (from tensorboard<2.17,>=2.16->tensorflow) (3.3.6)\n",
      "Requirement already satisfied: tensorboard-data-server<0.8.0,>=0.7.0 in /Users/alanzhang/Library/Python/3.10/lib/python/site-packages (from tensorboard<2.17,>=2.16->tensorflow) (0.7.2)\n",
      "Requirement already satisfied: werkzeug>=1.0.1 in /Users/alanzhang/Library/Python/3.10/lib/python/site-packages (from tensorboard<2.17,>=2.16->tensorflow) (3.0.1)\n",
      "Requirement already satisfied: MarkupSafe>=2.1.1 in /opt/local/Library/Frameworks/Python.framework/Versions/3.10/lib/python3.10/site-packages (from werkzeug>=1.0.1->tensorboard<2.17,>=2.16->tensorflow) (2.1.1)\n",
      "Requirement already satisfied: markdown-it-py>=2.2.0 in /Users/alanzhang/Library/Python/3.10/lib/python/site-packages (from rich->keras>=3.0.0->tensorflow) (3.0.0)\n",
      "Requirement already satisfied: pygments<3.0.0,>=2.13.0 in /Users/alanzhang/Library/Python/3.10/lib/python/site-packages (from rich->keras>=3.0.0->tensorflow) (2.17.2)\n",
      "Requirement already satisfied: mdurl~=0.1 in /Users/alanzhang/Library/Python/3.10/lib/python/site-packages (from markdown-it-py>=2.2.0->rich->keras>=3.0.0->tensorflow) (0.1.2)\n",
      "\n",
      "\u001b[1m[\u001b[0m\u001b[34;49mnotice\u001b[0m\u001b[1;39;49m]\u001b[0m\u001b[39;49m A new release of pip is available: \u001b[0m\u001b[31;49m23.3.2\u001b[0m\u001b[39;49m -> \u001b[0m\u001b[32;49m24.0\u001b[0m\n",
      "\u001b[1m[\u001b[0m\u001b[34;49mnotice\u001b[0m\u001b[1;39;49m]\u001b[0m\u001b[39;49m To update, run: \u001b[0m\u001b[32;49mpython3.10 -m pip install --upgrade pip\u001b[0m\n",
      "Note: you may need to restart the kernel to use updated packages.\n",
      "Defaulting to user installation because normal site-packages is not writeable\n",
      "Requirement already satisfied: scikit-learn in /Users/alanzhang/Library/Python/3.10/lib/python/site-packages (1.4.1.post1)\n",
      "Requirement already satisfied: numpy<2.0,>=1.19.5 in /Users/alanzhang/Library/Python/3.10/lib/python/site-packages (from scikit-learn) (1.26.3)\n",
      "Requirement already satisfied: scipy>=1.6.0 in /Users/alanzhang/Library/Python/3.10/lib/python/site-packages (from scikit-learn) (1.12.0)\n",
      "Requirement already satisfied: joblib>=1.2.0 in /Users/alanzhang/Library/Python/3.10/lib/python/site-packages (from scikit-learn) (1.3.2)\n",
      "Requirement already satisfied: threadpoolctl>=2.0.0 in /Users/alanzhang/Library/Python/3.10/lib/python/site-packages (from scikit-learn) (3.3.0)\n",
      "\n",
      "\u001b[1m[\u001b[0m\u001b[34;49mnotice\u001b[0m\u001b[1;39;49m]\u001b[0m\u001b[39;49m A new release of pip is available: \u001b[0m\u001b[31;49m23.3.2\u001b[0m\u001b[39;49m -> \u001b[0m\u001b[32;49m24.0\u001b[0m\n",
      "\u001b[1m[\u001b[0m\u001b[34;49mnotice\u001b[0m\u001b[1;39;49m]\u001b[0m\u001b[39;49m To update, run: \u001b[0m\u001b[32;49mpython3.10 -m pip install --upgrade pip\u001b[0m\n",
      "Note: you may need to restart the kernel to use updated packages.\n",
      "Defaulting to user installation because normal site-packages is not writeable\n",
      "Requirement already satisfied: scipy in /Users/alanzhang/Library/Python/3.10/lib/python/site-packages (1.12.0)\n",
      "Requirement already satisfied: numpy<1.29.0,>=1.22.4 in /Users/alanzhang/Library/Python/3.10/lib/python/site-packages (from scipy) (1.26.3)\n",
      "\n",
      "\u001b[1m[\u001b[0m\u001b[34;49mnotice\u001b[0m\u001b[1;39;49m]\u001b[0m\u001b[39;49m A new release of pip is available: \u001b[0m\u001b[31;49m23.3.2\u001b[0m\u001b[39;49m -> \u001b[0m\u001b[32;49m24.0\u001b[0m\n",
      "\u001b[1m[\u001b[0m\u001b[34;49mnotice\u001b[0m\u001b[1;39;49m]\u001b[0m\u001b[39;49m To update, run: \u001b[0m\u001b[32;49mpython3.10 -m pip install --upgrade pip\u001b[0m\n",
      "Note: you may need to restart the kernel to use updated packages.\n"
     ]
    }
   ],
   "source": [
    "%pip install tensorflow\n",
    "%pip install scikit-learn\n",
    "%pip install scipy"
   ]
  },
  {
   "cell_type": "code",
   "execution_count": 2,
   "metadata": {},
   "outputs": [],
   "source": [
    "import numpy as np\n",
    "import tensorflow as tf\n",
    "from tensorflow.keras.datasets import fashion_mnist\n",
    "from sklearn.utils import resample\n",
    "import matplotlib.pyplot as plt\n",
    "from scipy import stats"
   ]
  },
  {
   "cell_type": "code",
   "execution_count": 3,
   "metadata": {},
   "outputs": [],
   "source": [
    "from scipy.stats import t"
   ]
  },
  {
   "cell_type": "code",
   "execution_count": 4,
   "metadata": {},
   "outputs": [],
   "source": [
    "# Load the MNIST Fashion dataset\n",
    "(train_images, train_labels), (test_images, test_labels) = fashion_mnist.load_data()"
   ]
  },
  {
   "cell_type": "code",
   "execution_count": 5,
   "metadata": {},
   "outputs": [],
   "source": [
    "# Normalize pixel values to be between 0 and 1\n",
    "train_images = train_images / 255.0\n",
    "test_images = test_images / 255.0\n",
    "\n",
    "# Reshape images to 3D tensors (height, width, channels)\n",
    "train_images = train_images.reshape(train_images.shape[0], 28, 28, 1)\n",
    "test_images = test_images.reshape(test_images.shape[0], 28, 28, 1)"
   ]
  },
  {
   "cell_type": "code",
   "execution_count": 6,
   "metadata": {},
   "outputs": [
    {
     "name": "stderr",
     "output_type": "stream",
     "text": [
      "/Users/alanzhang/Library/Python/3.10/lib/python/site-packages/keras/src/layers/convolutional/base_conv.py:99: UserWarning: Do not pass an `input_shape`/`input_dim` argument to a layer. When using Sequential models, prefer using an `Input(shape)` object as the first layer in the model instead.\n",
      "  super().__init__(\n"
     ]
    }
   ],
   "source": [
    "# Define the CNN model\n",
    "model = tf.keras.Sequential([\n",
    "    tf.keras.layers.Conv2D(32, (3, 3), activation='relu', input_shape=(28, 28, 1)),\n",
    "    tf.keras.layers.MaxPooling2D(2, 2),\n",
    "    tf.keras.layers.Conv2D(64, (3, 3), activation='relu'),\n",
    "    tf.keras.layers.MaxPooling2D(2, 2),\n",
    "    tf.keras.layers.Flatten(),\n",
    "    tf.keras.layers.Dense(128, activation='relu'),\n",
    "    tf.keras.layers.Dense(10, activation='softmax')\n",
    "])"
   ]
  },
  {
   "cell_type": "code",
   "execution_count": 7,
   "metadata": {},
   "outputs": [],
   "source": [
    "# Compile the model\n",
    "model.compile(optimizer='adam',\n",
    "              loss='sparse_categorical_crossentropy',\n",
    "              metrics=['accuracy'])"
   ]
  },
  {
   "cell_type": "code",
   "execution_count": 8,
   "metadata": {},
   "outputs": [
    {
     "name": "stdout",
     "output_type": "stream",
     "text": [
      "Epoch 1/10\n",
      "1875/1875 - 23s - 12ms/step - accuracy: 0.8331 - loss: 0.4599 - val_accuracy: 0.8736 - val_loss: 0.3578\n",
      "Epoch 2/10\n",
      "1875/1875 - 24s - 13ms/step - accuracy: 0.8885 - loss: 0.3068 - val_accuracy: 0.8896 - val_loss: 0.3010\n",
      "Epoch 3/10\n",
      "1875/1875 - 26s - 14ms/step - accuracy: 0.9045 - loss: 0.2605 - val_accuracy: 0.8905 - val_loss: 0.2870\n",
      "Epoch 4/10\n",
      "1875/1875 - 23s - 12ms/step - accuracy: 0.9170 - loss: 0.2270 - val_accuracy: 0.9011 - val_loss: 0.2712\n",
      "Epoch 5/10\n",
      "1875/1875 - 23s - 13ms/step - accuracy: 0.9256 - loss: 0.2015 - val_accuracy: 0.9080 - val_loss: 0.2641\n",
      "Epoch 6/10\n",
      "1875/1875 - 23s - 12ms/step - accuracy: 0.9329 - loss: 0.1790 - val_accuracy: 0.9133 - val_loss: 0.2455\n",
      "Epoch 7/10\n",
      "1875/1875 - 23s - 12ms/step - accuracy: 0.9399 - loss: 0.1607 - val_accuracy: 0.9035 - val_loss: 0.2809\n",
      "Epoch 8/10\n",
      "1875/1875 - 26s - 14ms/step - accuracy: 0.9460 - loss: 0.1452 - val_accuracy: 0.9139 - val_loss: 0.2585\n",
      "Epoch 9/10\n",
      "1875/1875 - 25s - 13ms/step - accuracy: 0.9523 - loss: 0.1256 - val_accuracy: 0.9148 - val_loss: 0.2701\n",
      "Epoch 10/10\n",
      "1875/1875 - 25s - 13ms/step - accuracy: 0.9573 - loss: 0.1139 - val_accuracy: 0.9130 - val_loss: 0.3088\n"
     ]
    }
   ],
   "source": [
    "# Train the model\n",
    "history = model.fit(train_images, train_labels, epochs=10, validation_data=(test_images, test_labels), verbose=2)"
   ]
  },
  {
   "cell_type": "code",
   "execution_count": 10,
   "metadata": {},
   "outputs": [
    {
     "name": "stdout",
     "output_type": "stream",
     "text": [
      "Test accuracy: 0.913\n"
     ]
    }
   ],
   "source": [
    "# Evaluate model on test data\n",
    "test_loss, test_acc = model.evaluate(test_images, test_labels, verbose=0)\n",
    "print(f'Test accuracy: {test_acc:.3f}')"
   ]
  },
  {
   "cell_type": "code",
   "execution_count": 13,
   "metadata": {},
   "outputs": [
    {
     "name": "stdout",
     "output_type": "stream",
     "text": [
      "Iteration 1/10\n",
      "ccuracy: 0.138\n",
      "Iteration 2/10\n",
      "ccuracy: 0.144\n",
      "Iteration 3/10\n",
      "ccuracy: 0.132\n",
      "Iteration 4/10\n",
      "ccuracy: 0.083\n",
      "Iteration 5/10\n",
      "ccuracy: 0.118\n",
      "Iteration 6/10\n",
      "ccuracy: 0.092\n",
      "Iteration 7/10\n",
      "ccuracy: 0.142\n",
      "Iteration 8/10\n",
      "ccuracy: 0.087\n",
      "Iteration 9/10\n",
      "ccuracy: 0.159\n",
      "Iteration 10/10\n",
      "ccuracy: 0.119\n",
      "p-value: 0.09090909090909091\n",
      "p-value: 0.09090909090909091\n",
      "95% Confidence Interval: (0.8974312303082873, 0.9285687448961805)\n"
     ]
    }
   ],
   "source": [
    "# Mini-batch Bootstrap resampling for confidence interval estimation\n",
    "n_iterations = 10\n",
    "batch_size = 128  # Adjust batch size as needed\n",
    "accuracy_results = []\n",
    "\n",
    "for _ in range(n_iterations):\n",
    "    print(f'Iteration {_ + 1}/{n_iterations}')\n",
    "    # Randomly select indices for the mini-batch\n",
    "    indices = np.random.choice(train_images.shape[0], size=100, replace=True)\n",
    "    indices_tensor = tf.convert_to_tensor(indices)  # Convert numpy array to tensor\n",
    "    resampled_images = tf.gather(train_images, indices_tensor)\n",
    "    resampled_labels = tf.gather(train_labels, indices_tensor)\n",
    "\n",
    "    permuted_train_labels = np.random.permutation(resampled_labels)\n",
    "    \n",
    "    model.fit(resampled_images, permuted_train_labels, epochs=10, verbose=0)\n",
    "    \n",
    "    # Evaluate model on test data\n",
    "    _, acc = model.evaluate(test_images, test_labels, verbose=0)\n",
    "    accuracy_results.append(acc)  # Append accuracy value to the list\n",
    "    print(f'ccuracy: {acc:.3f}')\n",
    "\n",
    "# Compute confidence intervals\n",
    "p_value = (np.sum(np.array(accuracy_results) >= test_acc) + 1) / (n_iterations + 1)\n",
    "\n",
    "print(\"p-value:\", p_value)\n",
    "\n",
    "alpha = 0.05\n",
    "z_score = stats.norm.ppf(1 - alpha / 2)\n",
    "\n",
    "# Compute the standard error of the permutation test accuracies\n",
    "std_error = np.std(accuracy_results) / np.sqrt(n_iterations)\n",
    "\n",
    "# Compute the margin of error\n",
    "margin_of_error = z_score * std_error\n",
    "\n",
    "# Calculate the lower and upper bounds of the confidence interval\n",
    "lower_bound = test_acc - margin_of_error\n",
    "upper_bound = test_acc + margin_of_error\n",
    "\n",
    "print(\"p-value:\", p_value)\n",
    "print(\"95% Confidence Interval:\", (lower_bound, upper_bound))\n"
   ]
  },
  {
   "cell_type": "code",
   "execution_count": 15,
   "metadata": {},
   "outputs": [
    {
     "data": {
      "image/png": "[encoded data removed]",
      "text/plain": [
       "<Figure size 640x480 with 1 Axes>"
      ]
     },
     "metadata": {},
     "output_type": "display_data"
    }
   ],
   "source": [
    "# Plot training and test accuracy\n",
    "plt.plot(history.history['accuracy'], label='Train Accuracy')\n",
    "plt.plot(history.history['val_accuracy'], label = 'Test Accuracy')\n",
    "plt.xlabel('Epoch')\n",
    "plt.ylabel('Accuracy')\n",
    "plt.ylim([0.3, 1])\n",
    "plt.legend(loc='lower right')\n",
    "\n",
    "\n",
    "# Plot confidence intervals\n",
    "for epoch, (train_acc, test_acc) in enumerate(zip(history.history['accuracy'], history.history['val_accuracy'])):\n",
    "    plt.errorbar(epoch, train_acc, yerr=margin_of_error, fmt='none', ecolor='gray', capsize=5)\n",
    "    plt.errorbar(epoch, test_acc, yerr=margin_of_error, fmt='none', ecolor='gray', capsize=5)\n",
    "\n",
    "plt.title('Training and Test Accuracy with Confidence Intervals')\n",
    "plt.show()"
   ]
  },
  {
   "cell_type": "code",
   "execution_count": null,
   "metadata": {},
   "outputs": [],
   "source": []
  }
 ],
 "metadata": {
  "kernelspec": {
   "display_name": "Python 3",
   "language": "python",
   "name": "python3"
  },
  "language_info": {
   "codemirror_mode": {
    "name": "ipython",
    "version": 3
   },
   "file_extension": ".py",
   "mimetype": "text/x-python",
   "name": "python",
   "nbconvert_exporter": "python",
   "pygments_lexer": "ipython3",
   "version": "3.10.undefined"
  }
 },
 "nbformat": 4,
 "nbformat_minor": 2
}
