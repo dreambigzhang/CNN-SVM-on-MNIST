{
 "cells": [
  {
   "cell_type": "markdown",
   "metadata": {},
   "source": [
    "https://github.com/AmritK10/MNIST-CNN/tree/master\n",
    "Need to find already low res MNIST digits https://github.com/zatserkl/mnist_resolution/tree/master\n",
    " or we need to do pooling (max pooling)\n"
   ]
  }
 ],
 "metadata": {
  "language_info": {
   "name": "python"
  }
 },
 "nbformat": 4,
 "nbformat_minor": 2
}
