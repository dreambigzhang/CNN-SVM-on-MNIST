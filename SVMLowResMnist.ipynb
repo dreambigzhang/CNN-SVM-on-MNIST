{
 "cells": [
  {
   "cell_type": "code",
   "execution_count": 4,
   "metadata": {},
   "outputs": [
    {
     "name": "stdout",
     "output_type": "stream",
     "text": [
      "Defaulting to user installation because normal site-packages is not writeable\n",
      "Collecting torch\n",
      "  Downloading torch-2.2.1-cp310-none-macosx_11_0_arm64.whl.metadata (25 kB)\n",
      "Collecting filelock (from torch)\n",
      "  Downloading filelock-3.13.1-py3-none-any.whl.metadata (2.8 kB)\n",
      "Requirement already satisfied: typing-extensions>=4.8.0 in /Users/alanzhang/Library/Python/3.10/lib/python/site-packages (from torch) (4.10.0)\n",
      "Collecting sympy (from torch)\n",
      "  Downloading sympy-1.12-py3-none-any.whl.metadata (12 kB)\n",
      "Collecting networkx (from torch)\n",
      "  Downloading networkx-3.2.1-py3-none-any.whl.metadata (5.2 kB)\n",
      "Collecting jinja2 (from torch)\n",
      "  Downloading Jinja2-3.1.3-py3-none-any.whl.metadata (3.3 kB)\n",
      "Collecting fsspec (from torch)\n",
      "  Downloading fsspec-2024.3.0-py3-none-any.whl.metadata (6.8 kB)\n",
      "Requirement already satisfied: MarkupSafe>=2.0 in /opt/local/Library/Frameworks/Python.framework/Versions/3.10/lib/python3.10/site-packages (from jinja2->torch) (2.1.1)\n",
      "Collecting mpmath>=0.19 (from sympy->torch)\n",
      "  Downloading mpmath-1.3.0-py3-none-any.whl.metadata (8.6 kB)\n",
      "Downloading torch-2.2.1-cp310-none-macosx_11_0_arm64.whl (59.7 MB)\n",
      "\u001b[2K   \u001b[90m━━━━━━━━━━━━━━━━━━━━━━━━━━━━━━━━━━━━━━━━\u001b[0m \u001b[32m59.7/59.7 MB\u001b[0m \u001b[31m26.0 MB/s\u001b[0m eta \u001b[36m0:00:00\u001b[0m00:01\u001b[0m00:01\u001b[0m\n",
      "\u001b[?25hDownloading filelock-3.13.1-py3-none-any.whl (11 kB)\n",
      "Downloading fsspec-2024.3.0-py3-none-any.whl (171 kB)\n",
      "\u001b[2K   \u001b[90m━━━━━━━━━━━━━━━━━━━━━━━━━━━━━━━━━━━━━━━━\u001b[0m \u001b[32m171.9/171.9 kB\u001b[0m \u001b[31m14.1 MB/s\u001b[0m eta \u001b[36m0:00:00\u001b[0m\n",
      "\u001b[?25hDownloading Jinja2-3.1.3-py3-none-any.whl (133 kB)\n",
      "\u001b[2K   \u001b[90m━━━━━━━━━━━━━━━━━━━━━━━━━━━━━━━━━━━━━━━━\u001b[0m \u001b[32m133.2/133.2 kB\u001b[0m \u001b[31m12.6 MB/s\u001b[0m eta \u001b[36m0:00:00\u001b[0m\n",
      "\u001b[?25hDownloading networkx-3.2.1-py3-none-any.whl (1.6 MB)\n",
      "\u001b[2K   \u001b[90m━━━━━━━━━━━━━━━━━━━━━━━━━━━━━━━━━━━━━━━━\u001b[0m \u001b[32m1.6/1.6 MB\u001b[0m \u001b[31m9.8 MB/s\u001b[0m eta \u001b[36m0:00:00\u001b[0ma \u001b[36m0:00:01\u001b[0mm\n",
      "\u001b[?25hDownloading sympy-1.12-py3-none-any.whl (5.7 MB)\n",
      "\u001b[2K   \u001b[90m━━━━━━━━━━━━━━━━━━━━━━━━━━━━━━━━━━━━━━━━\u001b[0m \u001b[32m5.7/5.7 MB\u001b[0m \u001b[31m22.7 MB/s\u001b[0m eta \u001b[36m0:00:00\u001b[0ma \u001b[36m0:00:01\u001b[0m\n",
      "\u001b[?25hDownloading mpmath-1.3.0-py3-none-any.whl (536 kB)\n",
      "\u001b[2K   \u001b[90m━━━━━━━━━━━━━━━━━━━━━━━━━━━━━━━━━━━━━━━━\u001b[0m \u001b[32m536.2/536.2 kB\u001b[0m \u001b[31m33.8 MB/s\u001b[0m eta \u001b[36m0:00:00\u001b[0m\n",
      "\u001b[?25hInstalling collected packages: mpmath, sympy, networkx, jinja2, fsspec, filelock, torch\n",
      "Successfully installed filelock-3.13.1 fsspec-2024.3.0 jinja2-3.1.3 mpmath-1.3.0 networkx-3.2.1 sympy-1.12 torch-2.2.1\n",
      "\n",
      "\u001b[1m[\u001b[0m\u001b[34;49mnotice\u001b[0m\u001b[1;39;49m]\u001b[0m\u001b[39;49m A new release of pip is available: \u001b[0m\u001b[31;49m23.3.2\u001b[0m\u001b[39;49m -> \u001b[0m\u001b[32;49m24.0\u001b[0m\n",
      "\u001b[1m[\u001b[0m\u001b[34;49mnotice\u001b[0m\u001b[1;39;49m]\u001b[0m\u001b[39;49m To update, run: \u001b[0m\u001b[32;49mpython3.10 -m pip install --upgrade pip\u001b[0m\n",
      "Note: you may need to restart the kernel to use updated packages.\n"
     ]
    }
   ],
   "source": [
    "%pip install torch"
   ]
  },
  {
   "cell_type": "code",
   "execution_count": 31,
   "metadata": {},
   "outputs": [],
   "source": [
    "import torch\n",
    "import torch.nn as nn\n",
    "import torch.optim as optim\n",
    "from torch.utils.data import DataLoader, TensorDataset\n",
    "import numpy as np\n",
    "from scipy import stats\n",
    "from tensorflow.keras.datasets import mnist\n",
    "import tensorflow as tf\n",
    "import matplotlib.pyplot as plt"
   ]
  },
  {
   "cell_type": "code",
   "execution_count": 32,
   "metadata": {},
   "outputs": [],
   "source": [
    "# Define the SVM model using PyTorch\n",
    "class SVM(nn.Module):\n",
    "    def __init__(self):\n",
    "        super(SVM, self).__init__()\n",
    "        self.linear = nn.Linear(7 * 7, 10)  # 7x7 input, 10 classes\n",
    "\n",
    "    def forward(self, x):\n",
    "        x = x.view(x.size(0), -1)  # Flatten the input\n",
    "        return self.linear(x)\n",
    "\n",
    "# Initialize the SVM model\n",
    "svm_model = SVM()\n",
    "\n",
    "# Define optimizer and loss function\n",
    "optimizer = optim.SGD(svm_model.parameters(), lr=0.01)\n",
    "criterion = nn.CrossEntropyLoss()"
   ]
  },
  {
   "cell_type": "code",
   "execution_count": 33,
   "metadata": {},
   "outputs": [],
   "source": [
    "# Load the MNIST dataset\n",
    "(train_images, train_labels), (test_images, test_labels) = mnist.load_data()"
   ]
  },
  {
   "cell_type": "code",
   "execution_count": 34,
   "metadata": {},
   "outputs": [
    {
     "name": "stdout",
     "output_type": "stream",
     "text": [
      "Pooled Train Images Shape: (60000, 7, 7, 1)\n"
     ]
    }
   ],
   "source": [
    "# Reshape images to 4D tensors (height, width, channels)\n",
    "train_images = train_images.reshape(train_images.shape[0], 28, 28, 1)\n",
    "test_images = test_images.reshape(test_images.shape[0], 28, 28, 1)\n",
    "\n",
    "# Define the pooling layer\n",
    "pooling_layer = tf.keras.layers.MaxPooling2D(pool_size=(4, 4), strides=(4, 4), padding='valid')\n",
    "\n",
    "# Apply max pooling to the images\n",
    "train_images_pooled = pooling_layer(train_images)\n",
    "test_images_pooled = pooling_layer(test_images)\n",
    "\n",
    "# Normalize pixel values to be between 0 and 1\n",
    "train_images_pooled = train_images_pooled / 255.0\n",
    "test_images_pooled = test_images_pooled / 255.0\n",
    "\n",
    "print(\"Pooled Train Images Shape:\", train_images_pooled.shape)\n",
    "\n",
    "# Reshape images to 3D tensors (height, width, channels)\n",
    "train_images = train_images_pooled\n",
    "test_images = test_images_pooled"
   ]
  },
  {
   "cell_type": "code",
   "execution_count": 35,
   "metadata": {},
   "outputs": [
    {
     "data": {
      "image/png": "[encoded data removed]",
      "text/plain": [
       "<Figure size 1000x500 with 10 Axes>"
      ]
     },
     "metadata": {},
     "output_type": "display_data"
    }
   ],
   "source": [
    "# Display some original images\n",
    "plt.figure(figsize=(10, 5))\n",
    "for i in range(10):\n",
    "    plt.subplot(2, 5, i+1)\n",
    "    plt.imshow(train_images[i], cmap='gray')\n",
    "    plt.title(f\"Label: {train_labels[i]}\")\n",
    "    plt.axis('off')\n",
    "plt.show()"
   ]
  },
  {
   "cell_type": "code",
   "execution_count": 36,
   "metadata": {},
   "outputs": [
    {
     "name": "stdout",
     "output_type": "stream",
     "text": [
      "Train Images Tensor Shape: torch.Size([60000, 7, 7, 1])\n",
      "Train Labels Tensor Shape: torch.Size([60000])\n",
      "Test Images Tensor Shape: torch.Size([10000, 7, 7, 1])\n",
      "Test Labels Tensor Shape: torch.Size([10000])\n",
      "Train Images Tensor Shape: torch.Size([60000, 7, 7])\n",
      "Test Images Tensor Shape: torch.Size([10000, 7, 7])\n"
     ]
    }
   ],
   "source": [
    "# Convert data to PyTorch tensors\n",
    "train_images_tensor = torch.from_numpy(train_images.numpy()).float()\n",
    "train_labels_tensor = torch.from_numpy(train_labels).long()\n",
    "test_images_tensor = torch.from_numpy(test_images.numpy()).float()\n",
    "test_labels_tensor = torch.from_numpy(test_labels).long()\n",
    "print(\"Train Images Tensor Shape:\", train_images_tensor.shape)\n",
    "print(\"Train Labels Tensor Shape:\", train_labels_tensor.shape)\n",
    "print(\"Test Images Tensor Shape:\", test_images_tensor.shape)\n",
    "print(\"Test Labels Tensor Shape:\", test_labels_tensor.shape)\n",
    "\n",
    "# Remove the last dimension of the train and test image tensors\n",
    "train_images_tensor = train_images_tensor.squeeze(-1)\n",
    "test_images_tensor = test_images_tensor.squeeze(-1)\n",
    "\n",
    "print(\"Train Images Tensor Shape:\", train_images_tensor.shape)\n",
    "print(\"Test Images Tensor Shape:\", test_images_tensor.shape)"
   ]
  },
  {
   "cell_type": "code",
   "execution_count": 37,
   "metadata": {},
   "outputs": [],
   "source": [
    "\n",
    "# Create DataLoader for training data\n",
    "train_dataset = TensorDataset(train_images_tensor, train_labels_tensor)\n",
    "train_loader = DataLoader(train_dataset, batch_size=64, shuffle=True)\n",
    "test_dataset = TensorDataset(test_images_tensor.view(-1, 7 * 7), test_labels_tensor)\n",
    "test_loader = DataLoader(test_dataset, batch_size=64, shuffle=True)"
   ]
  },
  {
   "cell_type": "code",
   "execution_count": 38,
   "metadata": {},
   "outputs": [],
   "source": [
    "\n",
    "# Train the SVM model\n",
    "def train_model(model, criterion, optimizer, train_loader):\n",
    "    for images, labels in train_loader:\n",
    "        optimizer.zero_grad()\n",
    "        outputs = model(images)\n",
    "        loss = criterion(outputs, labels)\n",
    "        loss.backward()\n",
    "        optimizer.step()\n",
    "\n",
    "        predicted = torch.max(outputs, 1)[1]\n",
    "        correct = (predicted == labels).sum().item()\n",
    "        accuracy = correct / labels.size(0)\n",
    "    return accuracy\n"
   ]
  },
  {
   "cell_type": "code",
   "execution_count": 39,
   "metadata": {},
   "outputs": [
    {
     "data": {
      "text/plain": [
       "0.625"
      ]
     },
     "execution_count": 39,
     "metadata": {},
     "output_type": "execute_result"
    }
   ],
   "source": [
    "\n",
    "# Train the model\n",
    "train_model(svm_model, criterion, optimizer, train_loader)\n"
   ]
  },
  {
   "cell_type": "code",
   "execution_count": 40,
   "metadata": {},
   "outputs": [],
   "source": [
    "def test_model(model, test_loader):\n",
    "    correct = 0\n",
    "    total = 0\n",
    "    with torch.no_grad():\n",
    "        for images, labels in test_loader:\n",
    "            outputs = model(images)\n",
    "            _, predicted = torch.max(outputs.data, 1)\n",
    "            total += labels.size(0)\n",
    "            correct += (predicted == labels).sum().item()\n",
    "    accuracy = correct / total\n",
    "    return accuracy"
   ]
  },
  {
   "cell_type": "code",
   "execution_count": 41,
   "metadata": {},
   "outputs": [],
   "source": [
    "\n",
    "# Train the model and store the accuracy\n",
    "train_accuracy = train_model(svm_model, criterion, optimizer, train_loader)\n",
    "\n",
    "# Test the model and store the accuracy\n",
    "test_accuracy = test_model(svm_model, test_loader)\n"
   ]
  },
  {
   "cell_type": "code",
   "execution_count": 42,
   "metadata": {},
   "outputs": [],
   "source": [
    "def getConfidenceInterval(observedAccuracy, permutation_test_accuracies, n_iterations):\n",
    "    print(\"Observed accuracy:\", observedAccuracy)\n",
    "    # Calculate the p-value\n",
    "    p_value = (np.sum(np.array(permutation_test_accuracies) >= observedAccuracy) + 1) / (n_iterations + 1)\n",
    "\n",
    "    # Compute the z-score corresponding to the significance level (alpha)\n",
    "    alpha = 0.05\n",
    "    z_score = stats.norm.ppf(1 - alpha / 2)\n",
    "    print(\"z-score:\", z_score)\n",
    "    # Compute the standard error of the permutation test accuracies\n",
    "    std_error = np.std(permutation_test_accuracies) / np.sqrt(n_iterations)\n",
    "    print(\"std_error:\", std_error)\n",
    "    # Compute the margin of error\n",
    "    margin_of_error = z_score * std_error\n",
    "    print(\"margin_of_error:\", margin_of_error)\n",
    "    # Calculate the lower and upper bounds of the confidence interval\n",
    "    lower_bound = observedAccuracy - margin_of_error\n",
    "    upper_bound = observedAccuracy + margin_of_error\n",
    "\n",
    "    print(\"p-value:\", p_value)\n",
    "    print(\"95% Confidence Interval:\", (lower_bound, upper_bound))\n",
    "    return (lower_bound, upper_bound)"
   ]
  },
  {
   "cell_type": "code",
   "execution_count": 43,
   "metadata": {},
   "outputs": [
    {
     "name": "stdout",
     "output_type": "stream",
     "text": [
      "1\n",
      "Permutation test accuracy: 0.7365\n",
      "2\n",
      "Permutation test accuracy: 0.7559\n",
      "3\n",
      "Permutation test accuracy: 0.748\n",
      "4\n",
      "Permutation test accuracy: 0.7151\n",
      "5\n",
      "Permutation test accuracy: 0.6891\n",
      "6\n",
      "Permutation test accuracy: 0.6081\n",
      "7\n",
      "Permutation test accuracy: 0.5255\n",
      "8\n",
      "Permutation test accuracy: 0.5377\n",
      "9\n",
      "Permutation test accuracy: 0.5451\n",
      "10\n",
      "Permutation test accuracy: 0.4551\n",
      "Observed accuracy: 0.78125\n",
      "z-score: 1.959963984540054\n",
      "std_error: 0.033097300343079346\n",
      "margin_of_error: 0.06486951665794069\n",
      "p-value: 0.09090909090909091\n",
      "95% Confidence Interval: (0.7163804833420593, 0.8461195166579407)\n",
      "Observed accuracy: 0.7307\n",
      "z-score: 1.959963984540054\n",
      "std_error: 0.033097300343079346\n",
      "margin_of_error: 0.06486951665794069\n",
      "p-value: 0.36363636363636365\n",
      "95% Confidence Interval: (0.6658304833420593, 0.7955695166579407)\n"
     ]
    }
   ],
   "source": [
    "# Number of permutation test iterations\n",
    "n_iterations = 10\n",
    "\n",
    "# List to store accuracies from permutation tests\n",
    "permutation_test_accuracies = []\n",
    "\n",
    "\n",
    "\n",
    "for i in range(n_iterations):\n",
    "    print(i+1)\n",
    "    # Permute labels of the training set\n",
    "    permuted_train_labels = np.random.permutation(train_labels)\n",
    "    permuted_train_labels_tensor = torch.from_numpy(permuted_train_labels).long()\n",
    "    # Create DataLoader for training data\n",
    "\n",
    "    permuted_train_dataset = TensorDataset(train_images_tensor, permuted_train_labels_tensor)\n",
    "    permuted_train_loader = DataLoader(permuted_train_dataset, batch_size=64, shuffle=True)\n",
    "    \n",
    "    # Retrain SVM model on permuted training labels\n",
    "    train_model(svm_model, criterion, optimizer, permuted_train_loader)\n",
    "\n",
    "    # Calculate accuracy on the original test set\n",
    "    accuracy = test_model(svm_model, test_loader)\n",
    "    permutation_test_accuracies.append(accuracy)\n",
    "    print(\"Permutation test accuracy:\", accuracy)\n",
    "    \n",
    "# get the 95% confidence interval for train accuracy\n",
    "train_accuracy_confidence_interval = getConfidenceInterval(train_accuracy, permutation_test_accuracies, n_iterations)\n",
    "\n",
    "# get the 95% confidence interval for test accuracy\n",
    "test_accuracy_confidence_interval = getConfidenceInterval(test_accuracy, permutation_test_accuracies, n_iterations)\n",
    "\n"
   ]
  },
  {
   "cell_type": "code",
   "execution_count": 46,
   "metadata": {},
   "outputs": [
    {
     "data": {
      "image/png": "[encoded data removed]",
      "text/plain": [
       "<Figure size 640x480 with 1 Axes>"
      ]
     },
     "metadata": {},
     "output_type": "display_data"
    }
   ],
   "source": [
    "# plot both train and test confidence intervals\n",
    "plt.errorbar(x=0, y=train_accuracy, yerr=(train_accuracy_confidence_interval[1] - train_accuracy_confidence_interval[0]) / 2, fmt='o', label='Train Accuracy')\n",
    "plt.errorbar(x=1, y=test_accuracy, yerr=(test_accuracy_confidence_interval[1] - test_accuracy_confidence_interval[0]) / 2, fmt='o', label='Test Accuracy')\n",
    "plt.xticks([0, 1], ['Train', 'Test'])\n",
    "plt.ylabel('Accuracy')\n",
    "plt.title('95% Confidence Interval for Train and Test Accuracy')\n",
    "plt.legend()\n",
    "\n",
    "plt.show()"
   ]
  },
  {
   "cell_type": "code",
   "execution_count": null,
   "metadata": {},
   "outputs": [],
   "source": []
  }
 ],
 "metadata": {
  "kernelspec": {
   "display_name": "Python 3",
   "language": "python",
   "name": "python3"
  },
  "language_info": {
   "codemirror_mode": {
    "name": "ipython",
    "version": 3
   },
   "file_extension": ".py",
   "mimetype": "text/x-python",
   "name": "python",
   "nbconvert_exporter": "python",
   "pygments_lexer": "ipython3",
   "version": "3.10.4"
  }
 },
 "nbformat": 4,
 "nbformat_minor": 2
}
