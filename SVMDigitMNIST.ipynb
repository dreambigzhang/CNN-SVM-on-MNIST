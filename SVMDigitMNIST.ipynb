{
 "cells": [
  {
   "cell_type": "markdown",
   "metadata": {},
   "source": [
    "https://github.com/ahmed-hassan19/MNIST-Handwritten-Digits-Recognition-using-SVM-in-Python/blob/master/Handwritten_Digits_Recognition_using_SVMs.ipynb\n"
   ]
  }
 ],
 "metadata": {
  "language_info": {
   "name": "python"
  }
 },
 "nbformat": 4,
 "nbformat_minor": 2
}
