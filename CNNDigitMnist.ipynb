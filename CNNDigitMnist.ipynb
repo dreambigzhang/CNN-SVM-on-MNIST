{
 "cells": [
  {
   "cell_type": "markdown",
   "metadata": {},
   "source": [
    "https://github.com/AmritK10/MNIST-CNN/tree/master\n",
    "Need to find already low res MNIST digits https://github.com/zatserkl/mnist_resolution/tree/master\n",
    " or we need to do pooling (max pooling)\n"
   ]
  },
  {
   "cell_type": "code",
   "execution_count": 70,
   "metadata": {},
   "outputs": [],
   "source": [
    "import numpy as np\n",
    "import tensorflow as tf\n",
    "from tensorflow.keras.datasets import mnist\n",
    "from sklearn.utils import resample\n",
    "import matplotlib.pyplot as plt"
   ]
  },
  {
   "cell_type": "code",
   "execution_count": 71,
   "metadata": {},
   "outputs": [],
   "source": [
    "# Load the MNIST dataset\n",
    "(train_images, train_labels), (test_images, test_labels) = mnist.load_data()"
   ]
  },
  {
   "cell_type": "code",
   "execution_count": 72,
   "metadata": {},
   "outputs": [
    {
     "name": "stdout",
     "output_type": "stream",
     "text": [
      "Original Train Images Shape: (60000, 28, 28)\n",
      "Original Test Images Shape: (10000, 28, 28)\n"
     ]
    }
   ],
   "source": [
    "# Print dimensions of the original images\n",
    "print(\"Original Train Images Shape:\", train_images.shape)\n",
    "print(\"Original Test Images Shape:\", test_images.shape)"
   ]
  },
  {
   "cell_type": "code",
   "execution_count": 73,
   "metadata": {},
   "outputs": [
    {
     "data": {
      "image/png": "[encoded data removed]",
      "text/plain": [
       "<Figure size 1000x500 with 10 Axes>"
      ]
     },
     "metadata": {},
     "output_type": "display_data"
    }
   ],
   "source": [
    "# Display some original images\n",
    "plt.figure(figsize=(10, 5))\n",
    "for i in range(10):\n",
    "    plt.subplot(2, 5, i+1)\n",
    "    plt.imshow(train_images[i], cmap='gray')\n",
    "    plt.title(f\"Label: {train_labels[i]}\")\n",
    "    plt.axis('off')\n",
    "plt.show()"
   ]
  },
  {
   "cell_type": "code",
   "execution_count": 74,
   "metadata": {},
   "outputs": [
    {
     "name": "stdout",
     "output_type": "stream",
     "text": [
      "Pooled Train Images Shape: (60000, 7, 7, 1)\n"
     ]
    }
   ],
   "source": [
    "# Reshape images to 4D tensors (height, width, channels)\n",
    "train_images = train_images.reshape(train_images.shape[0], 28, 28, 1)\n",
    "test_images = test_images.reshape(test_images.shape[0], 28, 28, 1)\n",
    "\n",
    "# Define the pooling layer\n",
    "pooling_layer = tf.keras.layers.MaxPooling2D(pool_size=(4, 4), strides=(4, 4), padding='valid')\n",
    "\n",
    "# Apply max pooling to the images\n",
    "train_images_pooled = pooling_layer(train_images)\n",
    "test_images_pooled = pooling_layer(test_images)\n",
    "\n",
    "# Normalize pixel values to be between 0 and 1\n",
    "train_images_pooled = train_images_pooled / 255.0\n",
    "test_images_pooled = test_images_pooled / 255.0\n",
    "\n",
    "print(\"Pooled Train Images Shape:\", train_images_pooled.shape)"
   ]
  },
  {
   "cell_type": "code",
   "execution_count": 75,
   "metadata": {},
   "outputs": [
    {
     "data": {
      "image/png": "[encoded data removed]",
      "text/plain": [
       "<Figure size 1000x500 with 10 Axes>"
      ]
     },
     "metadata": {},
     "output_type": "display_data"
    }
   ],
   "source": [
    "# Display some original images\n",
    "plt.figure(figsize=(10, 5))\n",
    "for i in range(10):\n",
    "    plt.subplot(2, 5, i+1)\n",
    "    plt.imshow(train_images_pooled[i], cmap='gray')\n",
    "    plt.title(f\"Label: {train_labels[i]}\")\n",
    "    plt.axis('off')\n",
    "plt.show()"
   ]
  },
  {
   "cell_type": "code",
   "execution_count": 76,
   "metadata": {},
   "outputs": [],
   "source": [
    "# Reshape images to 3D tensors (height, width, channels)\n",
    "train_images = train_images_pooled\n",
    "test_images = test_images_pooled"
   ]
  },
  {
   "cell_type": "code",
   "execution_count": 77,
   "metadata": {},
   "outputs": [
    {
     "name": "stderr",
     "output_type": "stream",
     "text": [
      "/Users/alanzhang/Library/Python/3.10/lib/python/site-packages/keras/src/layers/convolutional/base_conv.py:99: UserWarning: Do not pass an `input_shape`/`input_dim` argument to a layer. When using Sequential models, prefer using an `Input(shape)` object as the first layer in the model instead.\n",
      "  super().__init__(\n"
     ]
    }
   ],
   "source": [
    "# Define the CNN model with padding\n",
    "model = tf.keras.Sequential([\n",
    "    tf.keras.layers.Conv2D(32, (3, 3), padding='same', activation='relu', input_shape=(7, 7, 1)),\n",
    "    tf.keras.layers.MaxPooling2D(2, 2),\n",
    "    tf.keras.layers.Conv2D(64, (3, 3), padding='same', activation='relu'),\n",
    "    tf.keras.layers.MaxPooling2D(2, 2),\n",
    "    tf.keras.layers.Flatten(),\n",
    "    tf.keras.layers.Dense(128, activation='relu'),\n",
    "    tf.keras.layers.Dense(10, activation='softmax')\n",
    "])\n"
   ]
  },
  {
   "cell_type": "code",
   "execution_count": 78,
   "metadata": {},
   "outputs": [],
   "source": [
    "# Compile the model\n",
    "model.compile(optimizer='adam',\n",
    "              loss='sparse_categorical_crossentropy',\n",
    "              metrics=['accuracy'])"
   ]
  },
  {
   "cell_type": "code",
   "execution_count": 79,
   "metadata": {},
   "outputs": [
    {
     "name": "stdout",
     "output_type": "stream",
     "text": [
      "Epoch 1/10\n",
      "1875/1875 - 6s - 3ms/step - accuracy: 0.8102 - loss: 0.5814 - val_accuracy: 0.8765 - val_loss: 0.3684\n",
      "Epoch 2/10\n",
      "1875/1875 - 5s - 3ms/step - accuracy: 0.8824 - loss: 0.3540 - val_accuracy: 0.8886 - val_loss: 0.3319\n",
      "Epoch 3/10\n",
      "1875/1875 - 5s - 3ms/step - accuracy: 0.8943 - loss: 0.3163 - val_accuracy: 0.9015 - val_loss: 0.3005\n",
      "Epoch 4/10\n",
      "1875/1875 - 5s - 3ms/step - accuracy: 0.9017 - loss: 0.2963 - val_accuracy: 0.8994 - val_loss: 0.3001\n",
      "Epoch 5/10\n",
      "1875/1875 - 5s - 2ms/step - accuracy: 0.9044 - loss: 0.2834 - val_accuracy: 0.9023 - val_loss: 0.3013\n",
      "Epoch 6/10\n",
      "1875/1875 - 5s - 2ms/step - accuracy: 0.9090 - loss: 0.2721 - val_accuracy: 0.9042 - val_loss: 0.2985\n",
      "Epoch 7/10\n",
      "1875/1875 - 5s - 3ms/step - accuracy: 0.9105 - loss: 0.2656 - val_accuracy: 0.9086 - val_loss: 0.2752\n",
      "Epoch 8/10\n",
      "1875/1875 - 5s - 2ms/step - accuracy: 0.9135 - loss: 0.2557 - val_accuracy: 0.9044 - val_loss: 0.2878\n",
      "Epoch 9/10\n",
      "1875/1875 - 5s - 3ms/step - accuracy: 0.9156 - loss: 0.2511 - val_accuracy: 0.9078 - val_loss: 0.2874\n",
      "Epoch 10/10\n",
      "1875/1875 - 5s - 3ms/step - accuracy: 0.9170 - loss: 0.2437 - val_accuracy: 0.9042 - val_loss: 0.2935\n"
     ]
    }
   ],
   "source": [
    "# Train the model\n",
    "history = model.fit(train_images, train_labels, epochs=10, validation_data=(test_images, test_labels), verbose=2)"
   ]
  },
  {
   "cell_type": "code",
   "execution_count": 65,
   "metadata": {},
   "outputs": [],
   "source": [
    "# Evaluate model on test data\n",
    "test_loss, test_acc = model.evaluate(test_images, test_labels, verbose=0)"
   ]
  },
  {
   "cell_type": "code",
   "execution_count": 66,
   "metadata": {},
   "outputs": [
    {
     "ename": "TypeError",
     "evalue": "Only integers, slices (`:`), ellipsis (`...`), tf.newaxis (`None`) and scalar tf.int32/tf.int64 tensors are valid indices, got array([ 4196, 11304, 39907, 26030, 16827, 11484,  2914, 47330, 15437,\n        2586,  2493, 39915, 43657, 15401, 31887, 12278,  8495, 13019,\n       44844, 27018, 41040, 18570, 42655, 38049, 36126, 24938,  7279,\n       39301, 40105, 25526, 53209, 54215, 20752, 27074, 27384, 46794,\n       44573, 20582, 16170, 26124, 36462, 35401, 36241, 19812, 24692,\n       23421, 53898, 49539, 46729, 44598, 59369, 58174, 44759, 59420,\n       52866,  1804, 26823, 53988, 17399, 30503, 54802, 37121, 19443,\n       56821, 50919, 51954,  4844, 34557, 22583,  8637, 14565, 31580,\n       17106, 14738,   278, 22696, 36861, 53751, 30303, 17382, 51353,\n       39998, 40682, 35637,  9525, 23955, 17228, 11543, 31320,  1162,\n       46875, 26210, 59351, 57756, 12919,  1255, 12099, 38917, 10413,\n       46387, 50737, 47645,  8167, 59825, 37077, 46987, 39275, 32255,\n       19452, 43662, 27570, 56821, 41690, 43607,  6437, 57802, 45682,\n       42272, 30716, 13458, 59320, 15306, 52757, 13851, 29056, 12209,\n       48081, 17205])",
     "output_type": "error",
     "traceback": [
      "\u001b[0;31m---------------------------------------------------------------------------\u001b[0m",
      "\u001b[0;31mTypeError\u001b[0m                                 Traceback (most recent call last)",
      "Cell \u001b[0;32mIn[66], line 9\u001b[0m\n\u001b[1;32m      6\u001b[0m \u001b[38;5;28;01mfor\u001b[39;00m _ \u001b[38;5;129;01min\u001b[39;00m \u001b[38;5;28mrange\u001b[39m(n_iterations):\n\u001b[1;32m      7\u001b[0m     \u001b[38;5;66;03m# Randomly select indices for the mini-batch\u001b[39;00m\n\u001b[1;32m      8\u001b[0m     indices \u001b[38;5;241m=\u001b[39m np\u001b[38;5;241m.\u001b[39mrandom\u001b[38;5;241m.\u001b[39mchoice(\u001b[38;5;28mlen\u001b[39m(train_images), size\u001b[38;5;241m=\u001b[39mbatch_size, replace\u001b[38;5;241m=\u001b[39m\u001b[38;5;28;01mTrue\u001b[39;00m)\n\u001b[0;32m----> 9\u001b[0m     resampled_images, resampled_labels \u001b[38;5;241m=\u001b[39m \u001b[43mtrain_images\u001b[49m\u001b[43m[\u001b[49m\u001b[43mindices\u001b[49m\u001b[43m]\u001b[49m, train_labels[indices]\n\u001b[1;32m     11\u001b[0m     \u001b[38;5;66;03m# Train model on resampled mini-batch\u001b[39;00m\n\u001b[1;32m     12\u001b[0m     model\u001b[38;5;241m.\u001b[39mfit(resampled_images, resampled_labels, epochs\u001b[38;5;241m=\u001b[39m\u001b[38;5;241m10\u001b[39m, verbose\u001b[38;5;241m=\u001b[39m\u001b[38;5;241m0\u001b[39m)\n",
      "File \u001b[0;32m~/Library/Python/3.10/lib/python/site-packages/tensorflow/python/util/traceback_utils.py:153\u001b[0m, in \u001b[0;36mfilter_traceback.<locals>.error_handler\u001b[0;34m(*args, **kwargs)\u001b[0m\n\u001b[1;32m    151\u001b[0m \u001b[38;5;28;01mexcept\u001b[39;00m \u001b[38;5;167;01mException\u001b[39;00m \u001b[38;5;28;01mas\u001b[39;00m e:\n\u001b[1;32m    152\u001b[0m   filtered_tb \u001b[38;5;241m=\u001b[39m _process_traceback_frames(e\u001b[38;5;241m.\u001b[39m__traceback__)\n\u001b[0;32m--> 153\u001b[0m   \u001b[38;5;28;01mraise\u001b[39;00m e\u001b[38;5;241m.\u001b[39mwith_traceback(filtered_tb) \u001b[38;5;28;01mfrom\u001b[39;00m \u001b[38;5;28;01mNone\u001b[39;00m\n\u001b[1;32m    154\u001b[0m \u001b[38;5;28;01mfinally\u001b[39;00m:\n\u001b[1;32m    155\u001b[0m   \u001b[38;5;28;01mdel\u001b[39;00m filtered_tb\n",
      "File \u001b[0;32m~/Library/Python/3.10/lib/python/site-packages/tensorflow/python/ops/tensor_getitem_override.py:62\u001b[0m, in \u001b[0;36m_check_index\u001b[0;34m(idx)\u001b[0m\n\u001b[1;32m     57\u001b[0m dtype \u001b[38;5;241m=\u001b[39m \u001b[38;5;28mgetattr\u001b[39m(idx, \u001b[38;5;124m\"\u001b[39m\u001b[38;5;124mdtype\u001b[39m\u001b[38;5;124m\"\u001b[39m, \u001b[38;5;28;01mNone\u001b[39;00m)\n\u001b[1;32m     58\u001b[0m \u001b[38;5;28;01mif\u001b[39;00m (dtype \u001b[38;5;129;01mis\u001b[39;00m \u001b[38;5;28;01mNone\u001b[39;00m \u001b[38;5;129;01mor\u001b[39;00m dtypes\u001b[38;5;241m.\u001b[39mas_dtype(dtype) \u001b[38;5;129;01mnot\u001b[39;00m \u001b[38;5;129;01min\u001b[39;00m _SUPPORTED_SLICE_DTYPES \u001b[38;5;129;01mor\u001b[39;00m\n\u001b[1;32m     59\u001b[0m     idx\u001b[38;5;241m.\u001b[39mshape \u001b[38;5;129;01mand\u001b[39;00m \u001b[38;5;28mlen\u001b[39m(idx\u001b[38;5;241m.\u001b[39mshape) \u001b[38;5;241m==\u001b[39m \u001b[38;5;241m1\u001b[39m):\n\u001b[1;32m     60\u001b[0m   \u001b[38;5;66;03m# TODO(slebedev): IndexError seems more appropriate here, but it\u001b[39;00m\n\u001b[1;32m     61\u001b[0m   \u001b[38;5;66;03m# will break `_slice_helper` contract.\u001b[39;00m\n\u001b[0;32m---> 62\u001b[0m   \u001b[38;5;28;01mraise\u001b[39;00m \u001b[38;5;167;01mTypeError\u001b[39;00m(_SLICE_TYPE_ERROR \u001b[38;5;241m+\u001b[39m \u001b[38;5;124m\"\u001b[39m\u001b[38;5;124m, got \u001b[39m\u001b[38;5;132;01m{!r}\u001b[39;00m\u001b[38;5;124m\"\u001b[39m\u001b[38;5;241m.\u001b[39mformat(idx))\n",
      "\u001b[0;31mTypeError\u001b[0m: Only integers, slices (`:`), ellipsis (`...`), tf.newaxis (`None`) and scalar tf.int32/tf.int64 tensors are valid indices, got array([ 4196, 11304, 39907, 26030, 16827, 11484,  2914, 47330, 15437,\n        2586,  2493, 39915, 43657, 15401, 31887, 12278,  8495, 13019,\n       44844, 27018, 41040, 18570, 42655, 38049, 36126, 24938,  7279,\n       39301, 40105, 25526, 53209, 54215, 20752, 27074, 27384, 46794,\n       44573, 20582, 16170, 26124, 36462, 35401, 36241, 19812, 24692,\n       23421, 53898, 49539, 46729, 44598, 59369, 58174, 44759, 59420,\n       52866,  1804, 26823, 53988, 17399, 30503, 54802, 37121, 19443,\n       56821, 50919, 51954,  4844, 34557, 22583,  8637, 14565, 31580,\n       17106, 14738,   278, 22696, 36861, 53751, 30303, 17382, 51353,\n       39998, 40682, 35637,  9525, 23955, 17228, 11543, 31320,  1162,\n       46875, 26210, 59351, 57756, 12919,  1255, 12099, 38917, 10413,\n       46387, 50737, 47645,  8167, 59825, 37077, 46987, 39275, 32255,\n       19452, 43662, 27570, 56821, 41690, 43607,  6437, 57802, 45682,\n       42272, 30716, 13458, 59320, 15306, 52757, 13851, 29056, 12209,\n       48081, 17205])"
     ]
    }
   ],
   "source": [
    "# Mini-batch Bootstrap resampling for confidence interval estimation\n",
    "n_iterations = 100\n",
    "batch_size = 128  # Adjust batch size as needed\n",
    "accuracy_results = []\n",
    "\n",
    "for _ in range(n_iterations):\n",
    "    # Randomly select indices for the mini-batch\n",
    "    indices = np.random.choice(len(train_images), size=batch_size, replace=True)\n",
    "    resampled_images, resampled_labels = train_images[indices], train_labels[indices]\n",
    "    \n",
    "    # Train model on resampled mini-batch\n",
    "    model.fit(resampled_images, resampled_labels, epochs=10, verbose=0)\n",
    "    \n",
    "    # Evaluate model on test data\n",
    "    _, acc = model.evaluate(test_images, test_labels, verbose=0)\n",
    "    accuracy_results.append(acc)  # Append accuracy value to the list\n",
    "\n",
    "# Compute confidence intervals\n",
    "alpha = 0.95\n",
    "p = ((1.0-alpha)/2.0) * 100\n",
    "lower_confidence = max(0.0, np.percentile(accuracy_results, p))\n",
    "p = (alpha+((1.0-alpha)/2.0)) * 100\n",
    "upper_confidence = min(1.0, np.percentile(accuracy_results, p))\n",
    "\n",
    "print(f'95% Confidence interval for accuracy: [{lower_confidence}, {upper_confidence}]')\n"
   ]
  },
  {
   "cell_type": "code",
   "execution_count": null,
   "metadata": {},
   "outputs": [],
   "source": []
  }
 ],
 "metadata": {
  "kernelspec": {
   "display_name": "Python 3",
   "language": "python",
   "name": "python3"
  },
  "language_info": {
   "codemirror_mode": {
    "name": "ipython",
    "version": 3
   },
   "file_extension": ".py",
   "mimetype": "text/x-python",
   "name": "python",
   "nbconvert_exporter": "python",
   "pygments_lexer": "ipython3",
   "version": "3.10.4"
  }
 },
 "nbformat": 4,
 "nbformat_minor": 2
}
